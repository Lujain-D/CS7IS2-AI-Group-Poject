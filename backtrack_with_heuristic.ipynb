{
 "cells": [
  {
   "cell_type": "code",
   "execution_count": 1,
   "metadata": {},
   "outputs": [],
   "source": [
    "import time\n",
    "import tracemalloc"
   ]
  },
  {
   "cell_type": "code",
   "execution_count": 2,
   "metadata": {},
   "outputs": [],
   "source": [
    "def cross(A,B):\n",
    "    return [a+b for a in A for b in B]"
   ]
  },
  {
   "cell_type": "code",
   "execution_count": 3,
   "metadata": {},
   "outputs": [],
   "source": [
    "def sudoku(puzzle):\n",
    "    \"\"\" \n",
    "        Sudoku must be entered as a string 81 characters long.\n",
    "        Unfilled cells must contain a full-stop \n",
    "    \"\"\"\n",
    "    \n",
    "    rows = 'ABCDEFGHI'\n",
    "    columns = '123456789'\n",
    "    digits = '123456789'\n",
    "    \n",
    "    variables = cross(rows, columns)\n",
    "    domains = dict(zip(variables, puzzle))\n",
    "    \n",
    "    for key, values in domains.items():\n",
    "        if values == '.':\n",
    "            domains[key] = list(digits)\n",
    "        else:\n",
    "            domains[key] = list(domains[key])\n",
    "     \n",
    "    unitlist = [cross(rows,a) for a in columns] + [cross(a, columns) for a in rows] + [cross(a,b) for a in ['ABC', 'DEF', 'GHI'] for b in ['123', '456', '789']]\n",
    "    \n",
    "    units = dict((s,[t for t in unitlist if s in t]) for s in variables)\n",
    "    \n",
    "    neighbours =  dict((s, set(units[s][0] +units[s][1]+ units[s][2]) - set([s])) for s in variables)\n",
    "    \n",
    "    constraints = lambda X, x, Y, y : x != y\n",
    "    \n",
    "    return variables, domains, neighbours, constraints"
   ]
  },
  {
   "cell_type": "code",
   "execution_count": 4,
   "metadata": {},
   "outputs": [],
   "source": [
    "class CSP():\n",
    "    def __init__(self, variables, domains, neighbours, constraints):\n",
    "        self.variables = variables #list of variables\n",
    "        self.domains = domains #dictionary where keys are variables\n",
    "        self.neighbours = neighbours #dict: keys are variables, values are lists other variables in constraints with key\n",
    "        self.constraints = constraints #function X,x,Y,y returns true if X = x, Y = y satisfy constraints\n",
    "                                        #e.g. lambda X,x,Y,y : x != y\n",
    "        self.nNodes = 0 #count number of nodes in search tree\n",
    "                        \n",
    "    def prune(self, var, value):\n",
    "        \"\"\" romove value val from domain of variable var \"\"\"\n",
    "        self.domains[var].remove(value)\n",
    "        \n",
    "    def assign(self, var, val, assignment):\n",
    "        \"\"\" add variable var and value val to assigment \"\"\"\n",
    "        assignment[var] = val\n",
    "        self.nNodes += 1\n",
    "        \n",
    "    def unassign(self, var, assignment):\n",
    "        \"\"\" remove variable var from assignment \"\"\"\n",
    "        if var in assignment:\n",
    "            del assignment[var]\n",
    "           \n",
    "    def nConflicts(self, var, val, assignment):\n",
    "        \"\"\" return number of conflicts var = val has in assignent \"\"\"\n",
    "        count = 0\n",
    "        for var2 in self.neighbours[var]:\n",
    "            if var2 in assignment and not self.constraints(var, val, var2, assignment[var2]):\n",
    "                count += 1\n",
    "        return count\n",
    "    \n",
    "    def isGoalState(self, assignment):\n",
    "        \"\"\" check is the current state a goal state \"\"\"\n",
    "    \n",
    "        result = (len(assignment) == len(self.variables)) and (all(self.nConflicts(var, assignment[var], assignment) == 0 for var in self.variables))\n",
    "        return result\n",
    "    \n",
    "    \n",
    "    def display(self, assignment):\n",
    "        def show_box(box): return [' '.join(map(show_cell, row)) for row in box]\n",
    "\n",
    "        def show_cell(cell): return str(assignment.get(cell, '.'))\n",
    "\n",
    "        def abut(lines1, lines2): return list(\n",
    "            map(' | '.join, list(zip(lines1, lines2))))\n",
    "\n",
    "        print('\\n------+-------+------\\n'.join(\n",
    "            '\\n'.join(reduce(\n",
    "                abut, map(show_box, brow))) for brow in self.bgrid))"
   ]
  },
  {
   "cell_type": "code",
   "execution_count": 5,
   "metadata": {},
   "outputs": [],
   "source": [
    "def revise(csp, Xi, Xj):\n",
    "    revised = False\n",
    "    for x in csp.domains[Xi]:\n",
    "        if all(not csp.constraints(Xi,x,Xj,y) for y in csp.domains[Xj]):\n",
    "            csp.prune(Xi, x) \n",
    "            revised = True\n",
    "    return revised"
   ]
  },
  {
   "cell_type": "code",
   "execution_count": 6,
   "metadata": {},
   "outputs": [],
   "source": [
    "def AC3(csp):\n",
    "    queue = {(Xi, Xj) for Xi in csp.variables for Xj in csp.neighbours[Xi]}\n",
    "    while queue:\n",
    "        (Xi, Xj) = queue.pop()\n",
    "        if revise(csp, Xi, Xj):\n",
    "            if not csp.domains[Xi]:\n",
    "                return False\n",
    "            for Xk in csp.neighbours[Xi]:\n",
    "                if Xk != Xj:\n",
    "                    queue.add((Xk, Xi))\n",
    "    return True"
   ]
  },
  {
   "cell_type": "code",
   "execution_count": 7,
   "metadata": {},
   "outputs": [],
   "source": [
    "def count(seq):\n",
    "    \"\"\"Count the number of items in sequence that are interpreted as true.\"\"\"\n",
    "    return sum(map(bool, seq))"
   ]
  },
  {
   "cell_type": "code",
   "execution_count": 8,
   "metadata": {},
   "outputs": [],
   "source": [
    "def num_legal_values(csp, var, assignment):\n",
    "        return count(csp.nConflicts(var, val, assignment) == 0 for val in csp.domains[var])"
   ]
  },
  {
   "cell_type": "code",
   "execution_count": 9,
   "metadata": {},
   "outputs": [],
   "source": [
    "def mrv(assignment, csp):\n",
    "    \"\"\"Minimum-remaining-values heuristic.\"\"\"\n",
    "    return min([v for v in csp.variables if v not in assignment],\n",
    "                             key=lambda var: num_legal_values(csp, var, assignment))"
   ]
  },
  {
   "cell_type": "code",
   "execution_count": 10,
   "metadata": {},
   "outputs": [],
   "source": [
    "def lcv(var, assignment, csp):\n",
    "    \"\"\"Least-constraining-values heuristic.\"\"\"\n",
    "    return sorted(csp.domains[var], key=lambda val: csp.nConflicts(var, val, assignment))"
   ]
  },
  {
   "cell_type": "markdown",
   "metadata": {},
   "source": [
    "## Edit this function for adding and removing different heuristics"
   ]
  },
  {
   "cell_type": "code",
   "execution_count": 11,
   "metadata": {},
   "outputs": [],
   "source": [
    "def backtracking_search(csp):\n",
    "    \n",
    "  \n",
    "    #AC3(csp)\n",
    "    assignment = {}\n",
    "    for var in csp.variables:\n",
    "        if (len(csp.domains[var]) == 1):\n",
    "            assignment[var] = csp.domains[var]\n",
    "          \n",
    "    def backtrack(assignment):\n",
    "        if len(assignment) == len(csp.variables):\n",
    "            return assignment #if len(assignment) == 81, return assignment. Do goal test. If goal return True. Else assertion error\n",
    "        \n",
    "        #now if len(assignment) < 81, i.e. partial assignment enter for loop.\n",
    "        \n",
    "        #var = next(iter([v for v in csp.variables if v not in assignment]), None) #var = next variable from variables list that isn't in assignment\n",
    "        \n",
    "        #add in MRV heuristic\n",
    "        #might take less steps but each step takes longer \n",
    "        var = mrv(assignment, csp)#min([v for v in csp.variables if v not in assignment], key = lambda v : len(csp.domains[v]), default = None)\n",
    "        \n",
    "        for value in csp.domains[var]: #lcv(var, assignment, csp):# #cycle through remaining domain vales for var\n",
    "            if 0 == csp.nConflicts(var, value, assignment):\n",
    "                csp.assign(var, value, assignment)                \n",
    "                result = backtrack(assignment) #runs new backtrack with new var and val. don't get confused between these \n",
    "                if result is not None:\n",
    "                    return result\n",
    "        csp.unassign(var, assignment) #unassigns previously assigned variable\n",
    "        return None\n",
    "\n",
    "    result = backtrack(assignment)\n",
    "    assert result is None or csp.isGoalState(result) \n",
    "\n",
    "    return result"
   ]
  },
  {
   "cell_type": "markdown",
   "metadata": {},
   "source": [
    "## enter name of data set here"
   ]
  },
  {
   "cell_type": "code",
   "execution_count": 12,
   "metadata": {},
   "outputs": [],
   "source": [
    "file = open(\"50easiest.txt\", \"r\")\n",
    "puzzles = file.readlines()"
   ]
  },
  {
   "cell_type": "markdown",
   "metadata": {},
   "source": [
    "## run this cell to run algorithm and get stats"
   ]
  },
  {
   "cell_type": "code",
   "execution_count": 13,
   "metadata": {},
   "outputs": [
    {
     "name": "stdout",
     "output_type": "stream",
     "text": [
      "Average number of nodes : 52.64\n",
      "Maximum number of nodes : 59.00\n",
      "Average time (seconds) : 0.0362\n",
      "Maximum time (seconds) : 0.0469\n",
      "Average memory : 0.0092\n",
      "Maximum memory : 0.1556\n"
     ]
    }
   ],
   "source": [
    "steps = []\n",
    "solvable = []\n",
    "times = []\n",
    "memories = []\n",
    "for puzzle in puzzles:\n",
    "    variables, domains, neighbours, constraints = sudoku(puzzle[0:81])\n",
    "    problem = CSP(variables, domains, neighbours, constraints)\n",
    "    \n",
    "    mem = tracemalloc\n",
    "    mem.start()\n",
    "    start = time.time()\n",
    "    \n",
    "    solution = backtracking_search(problem)\n",
    "    \n",
    "    duration = time.time() - start\n",
    "    current, peak = tracemalloc.get_traced_memory()\n",
    "    mem.stop()\n",
    "    \n",
    "    solved =  problem.isGoalState(solution)\n",
    "    solvable.append(solved)\n",
    "    steps.append(problem.nNodes)  \n",
    "    times.append(duration)\n",
    "    memories.append(peak)\n",
    "    \n",
    "print(\"Average number of nodes : {:.2f}\".format(sum(steps)/50))\n",
    "print(\"Maximum number of nodes : {:.2f}\".format(max(steps)))\n",
    "print(\"Average time (seconds) : {:.4f}\".format(sum(times) / 50))\n",
    "print(\"Maximum time (seconds) : {:.4f}\".format(max(times)))\n",
    "print(\"Average memory : {:.4f}\".format(sum(memories)/50/(10**6)))\n",
    "print(\"Maximum memory : {:.4f}\".format(max(memories)/(10**6)))"
   ]
  }
 ],
 "metadata": {
  "kernelspec": {
   "display_name": "Python 3",
   "language": "python",
   "name": "python3"
  },
  "language_info": {
   "codemirror_mode": {
    "name": "ipython",
    "version": 3
   },
   "file_extension": ".py",
   "mimetype": "text/x-python",
   "name": "python",
   "nbconvert_exporter": "python",
   "pygments_lexer": "ipython3",
   "version": "3.7.4"
  }
 },
 "nbformat": 4,
 "nbformat_minor": 2
}
