{
 "cells": [
  {
   "cell_type": "markdown",
   "metadata": {},
   "source": []
  },
  {
   "cell_type": "code",
   "execution_count": 1,
   "metadata": {},
   "outputs": [],
   "source": [
    "example = \"..3.2.6..9..3.5..1..18.64....81.29..7.......8..67.82....26.95..8..2.3..9..5.1.3..\"\n",
    "example2 = \"4.....8.5.3..........7......2.....6.....8.4......1.......6.3.7.5..2.....1.4......\"\n",
    "example3 = \"659.1.28.1...5..3.2..8...1....135.7.8..9....2..3.7864.3.2..9..4.....18....876....\"\n",
    "example4 = \"85...24..72......9..4.........1.7..23.5...9...4...........8..7..17..........36.4.\""
   ]
  },
  {
   "cell_type": "code",
   "execution_count": 2,
   "metadata": {},
   "outputs": [],
   "source": [
    "def cross(A,B):\n",
    "    return [a+b for a in A for b in B]"
   ]
  },
  {
   "cell_type": "code",
   "execution_count": 3,
   "metadata": {},
   "outputs": [],
   "source": [
    "def setUp(puzzle):\n",
    "    \"\"\" add in checks about lengths etc \"\"\"\n",
    "    rows = 'ABCDEFGHI'\n",
    "    columns = '123456789'\n",
    "    squares = cross(rows, columns)\n",
    "    grid = dict(zip(squares, puzzle))\n",
    "    return grid"
   ]
  },
  {
   "cell_type": "code",
   "execution_count": 4,
   "metadata": {},
   "outputs": [],
   "source": [
    "def setUpDomains(puzzle):\n",
    "    \"\"\"input is string of dots and digits\n",
    "        sets up dict where key is squares, values are domains \"\"\"\n",
    "    digits = '123456789'\n",
    "    grid = setUp(puzzle)\n",
    "    for a, b in grid.items():\n",
    "        if b == '.':\n",
    "            grid[a] = list(digits)\n",
    "        else:\n",
    "            grid[a] = list(grid[a])\n",
    "            \n",
    "            \n",
    "    \n",
    "    #domains = { a : list(grid[a]) for (a, b) in grid.items()}\n",
    "    \n",
    "    return grid"
   ]
  },
  {
   "cell_type": "code",
   "execution_count": 5,
   "metadata": {},
   "outputs": [],
   "source": [
    "def sudoku(puzzle):\n",
    "    \n",
    "    # add in checks to ensure set up is ok, e.g. 81 characters long\n",
    "    \n",
    "    rows = 'ABCDEFGHI'\n",
    "    columns = '123456789'\n",
    "    digits = '123456789'\n",
    "    \n",
    "    variables = cross(rows, columns)\n",
    "    domains = dict(zip(variables, puzzle))\n",
    "    \n",
    "    for key, values in domains.items():\n",
    "        if values == '.':\n",
    "            domains[key] = list(digits)\n",
    "        else:\n",
    "            domains[key] = list(domains[key])\n",
    "     \n",
    "    \n",
    "    \n",
    "    unitlist = [cross(rows,a) for a in columns] + [cross(a, columns) for a in rows] + [cross(a,b) for a in ['ABC', 'DEF', 'GHI'] for b in ['123', '456', '789']]\n",
    "    \n",
    "    units = dict((s,[t for t in unitlist if s in t]) for s in variables)\n",
    "    \n",
    "    neighbours =  dict((s, set(units[s][0] +units[s][1]+ units[s][2]) - set([s])) for s in variables)\n",
    "    \n",
    "    constraints = lambda X, x, Y, y : x != y\n",
    "    \n",
    "    return variables, domains, neighbours, constraints"
   ]
  },
  {
   "cell_type": "code",
   "execution_count": 6,
   "metadata": {},
   "outputs": [],
   "source": [
    "class CSP():\n",
    "    def __init__(self, variables, domains, neighbours, constraints):\n",
    "        self.variables = variables #list of variables\n",
    "        self.domains = domains #dictionary where keys are variables\n",
    "        self.neighbours = neighbours #dict: keys are variables, values are lists other variables in constraints with key\n",
    "        self.constraints = constraints #function X,x,Y,y returns true if X = x, Y = y satisfy constraints\n",
    "                                        #e.g. lambda X,x,Y,y : x != y\n",
    "                        \n",
    "    def prune(self, var, value):\n",
    "        \"\"\" romove value val from domain of variable var \"\"\"\n",
    "        self.domains[var].remove(value)\n",
    "        \n",
    "    def assign(self, var, val, assignment):\n",
    "        \"\"\" add variable var and value val to assigment \"\"\"\n",
    "        assignment[var] = val\n",
    "        \n",
    "    def unassign(self, var, assignment):\n",
    "        \"\"\" remove variable var from assignment \"\"\"\n",
    "        if var in assignment:\n",
    "            del assignment[var]\n",
    "           \n",
    "    def nConflicts(self, var, val, assignment):\n",
    "        \"\"\" return number of conflicts var = val has in assignent \"\"\"\n",
    "        count = 0\n",
    "        for var2 in self.neighbours[var]:\n",
    "            if var2 in assignment and not self.constraints(var, val, var2, assignment[var2]):\n",
    "                count += 1\n",
    "        return count\n",
    "    \n",
    "    def isGoalState(self, assignment):\n",
    "        \"\"\" check is the current state a goal state \"\"\"\n",
    "    \n",
    "        result = (len(assignment) == len(self.variables)) and (all(self.nConflicts(var, assignment[var], assignment) == 0 for var in self.variables))\n",
    "        return result"
   ]
  },
  {
   "cell_type": "code",
   "execution_count": null,
   "metadata": {},
   "outputs": [],
   "source": []
  },
  {
   "cell_type": "code",
   "execution_count": 7,
   "metadata": {},
   "outputs": [],
   "source": [
    "def backtracking_search(csp):\n",
    "\n",
    "    def backtrack(assignment):\n",
    "        if len(assignment) == len(csp.variables):\n",
    "            return assignment #if len(assignment) == 81, return assignment. Do goal test. If goal return True. Else assertion error\n",
    "        \n",
    "        #now if len(assignment) < 81, i.e. partial assignment enter for loop.\n",
    "        \n",
    "        var = next(iter([v for v in csp.variables if v not in assignment]), None) #var = next variable from variables list that isn't in assignment\n",
    "        \n",
    "        for value in csp.domains[var]:  #cycle through remaining domain vales for var\n",
    "            if 0 == csp.nConflicts(var, value, assignment):\n",
    "                csp.assign(var, value, assignment)\n",
    "                result = backtrack(assignment) #runs new backtrack with new var and val. don't get confused between these \n",
    "                if result is not None:\n",
    "                    return result\n",
    "        csp.unassign(var, assignment) #unassigns previously assigned variable\n",
    "        return None\n",
    "\n",
    "    result = backtrack({})\n",
    "    assert result is None or csp.isGoalState(result) #true if:\n",
    "    return result"
   ]
  },
  {
   "cell_type": "code",
   "execution_count": 8,
   "metadata": {},
   "outputs": [],
   "source": [
    "def revise(csp, Xi, Xj):\n",
    "    revised = False\n",
    "    for x in csp.domains[Xi]:\n",
    "        if all(not csp.constraints(Xi,x,Xj,y) for y in csp.domains[Xj]):\n",
    "            csp.prune(Xi, x) \n",
    "            revised = True\n",
    "    return revised"
   ]
  },
  {
   "cell_type": "code",
   "execution_count": 9,
   "metadata": {},
   "outputs": [],
   "source": [
    "def AC3(csp):\n",
    "    queue = {(Xi, Xj) for Xi in csp.variables for Xj in csp.neighbours[Xi]}\n",
    "    while queue:\n",
    "        (Xi, Xj) = queue.pop()\n",
    "        if revise(csp, Xi, Xj):\n",
    "            if not csp.domains[Xi]:\n",
    "                return False\n",
    "            for Xk in csp.neighbours[Xi]:\n",
    "                if Xk != Xj:\n",
    "                    queue.add((Xk, Xi))\n",
    "    return True\n",
    "                \n",
    "            \n",
    "    "
   ]
  },
  {
   "cell_type": "code",
   "execution_count": 17,
   "metadata": {},
   "outputs": [],
   "source": [
    "variables, domains, neighbours, constraints = sudoku(example4)"
   ]
  },
  {
   "cell_type": "code",
   "execution_count": 18,
   "metadata": {},
   "outputs": [],
   "source": [
    "problem = CSP(variables, domains, neighbours, constraints)"
   ]
  },
  {
   "cell_type": "code",
   "execution_count": 19,
   "metadata": {},
   "outputs": [],
   "source": [
    "test = AC3(problem)"
   ]
  },
  {
   "cell_type": "code",
   "execution_count": 20,
   "metadata": {},
   "outputs": [
    {
     "data": {
      "text/plain": [
       "{'A1': ['8'],\n",
       " 'A2': ['5'],\n",
       " 'A3': ['1', '3', '6', '9'],\n",
       " 'A4': ['3', '6', '7', '9'],\n",
       " 'A5': ['1', '6', '7', '9'],\n",
       " 'A6': ['2'],\n",
       " 'A7': ['4'],\n",
       " 'A8': ['1', '3', '6'],\n",
       " 'A9': ['1', '3', '6', '7'],\n",
       " 'B1': ['7'],\n",
       " 'B2': ['2'],\n",
       " 'B3': ['1', '3', '6'],\n",
       " 'B4': ['3', '4', '5', '6', '8'],\n",
       " 'B5': ['1', '4', '5', '6'],\n",
       " 'B6': ['1', '3', '4', '5', '8'],\n",
       " 'B7': ['1', '3', '5', '6', '8'],\n",
       " 'B8': ['1', '3', '5', '6', '8'],\n",
       " 'B9': ['9'],\n",
       " 'C1': ['1', '6', '9'],\n",
       " 'C2': ['3', '6', '9'],\n",
       " 'C3': ['4'],\n",
       " 'C4': ['3', '5', '6', '7', '8', '9'],\n",
       " 'C5': ['1', '5', '6', '7', '9'],\n",
       " 'C6': ['1', '3', '5', '8', '9'],\n",
       " 'C7': ['1', '2', '3', '5', '6', '7', '8'],\n",
       " 'C8': ['1', '2', '3', '5', '6', '8'],\n",
       " 'C9': ['1', '3', '5', '6', '7', '8'],\n",
       " 'D1': ['6', '9'],\n",
       " 'D2': ['6', '8', '9'],\n",
       " 'D3': ['6', '8', '9'],\n",
       " 'D4': ['1'],\n",
       " 'D5': ['4', '5', '6', '9'],\n",
       " 'D6': ['7'],\n",
       " 'D7': ['3', '5', '6', '8'],\n",
       " 'D8': ['3', '5', '6', '8'],\n",
       " 'D9': ['2'],\n",
       " 'E1': ['3'],\n",
       " 'E2': ['6', '7', '8'],\n",
       " 'E3': ['5'],\n",
       " 'E4': ['2', '4', '6', '8'],\n",
       " 'E5': ['2', '4', '6'],\n",
       " 'E6': ['4', '8'],\n",
       " 'E7': ['9'],\n",
       " 'E8': ['1', '6', '8'],\n",
       " 'E9': ['1', '4', '6', '7', '8'],\n",
       " 'F1': ['1', '2', '6', '9'],\n",
       " 'F2': ['4'],\n",
       " 'F3': ['1', '2', '6', '8', '9'],\n",
       " 'F4': ['2', '3', '5', '6', '8', '9'],\n",
       " 'F5': ['2', '5', '6', '9'],\n",
       " 'F6': ['3', '5', '8', '9'],\n",
       " 'F7': ['1', '3', '5', '6', '7', '8'],\n",
       " 'F8': ['1', '3', '5', '6', '8'],\n",
       " 'F9': ['1', '3', '5', '6', '7', '8'],\n",
       " 'G1': ['2', '4', '5', '6', '9'],\n",
       " 'G2': ['3', '6', '9'],\n",
       " 'G3': ['2', '3', '6', '9'],\n",
       " 'G4': ['2', '4', '5', '9'],\n",
       " 'G5': ['8'],\n",
       " 'G6': ['1', '4', '5', '9'],\n",
       " 'G7': ['1', '2', '3', '5', '6'],\n",
       " 'G8': ['7'],\n",
       " 'G9': ['1', '3', '5', '6'],\n",
       " 'H1': ['2', '4', '5', '6', '9'],\n",
       " 'H2': ['1'],\n",
       " 'H3': ['7'],\n",
       " 'H4': ['2', '4', '5', '9'],\n",
       " 'H5': ['2', '4', '5', '9'],\n",
       " 'H6': ['4', '5', '9'],\n",
       " 'H7': ['2', '3', '5', '6', '8'],\n",
       " 'H8': ['2', '3', '5', '6', '8', '9'],\n",
       " 'H9': ['3', '5', '6', '8'],\n",
       " 'I1': ['2', '5', '9'],\n",
       " 'I2': ['8', '9'],\n",
       " 'I3': ['2', '8', '9'],\n",
       " 'I4': ['2', '5', '7', '9'],\n",
       " 'I5': ['3'],\n",
       " 'I6': ['6'],\n",
       " 'I7': ['1', '2', '5', '8'],\n",
       " 'I8': ['4'],\n",
       " 'I9': ['1', '5', '8']}"
      ]
     },
     "execution_count": 20,
     "metadata": {},
     "output_type": "execute_result"
    }
   ],
   "source": [
    "domains"
   ]
  },
  {
   "cell_type": "code",
   "execution_count": 21,
   "metadata": {},
   "outputs": [],
   "source": [
    "problemRed = CSP(variables, domains, neighbours, constraints)"
   ]
  },
  {
   "cell_type": "code",
   "execution_count": 22,
   "metadata": {},
   "outputs": [],
   "source": [
    "solution = backtracking_search(problemRed)"
   ]
  },
  {
   "cell_type": "code",
   "execution_count": 23,
   "metadata": {},
   "outputs": [
    {
     "data": {
      "text/plain": [
       "{'A1': '8',\n",
       " 'A2': '5',\n",
       " 'A3': '9',\n",
       " 'A4': '6',\n",
       " 'A5': '1',\n",
       " 'A6': '2',\n",
       " 'A7': '4',\n",
       " 'A8': '3',\n",
       " 'A9': '7',\n",
       " 'B1': '7',\n",
       " 'B2': '2',\n",
       " 'B3': '3',\n",
       " 'B4': '8',\n",
       " 'B5': '5',\n",
       " 'B6': '4',\n",
       " 'B7': '1',\n",
       " 'B8': '6',\n",
       " 'B9': '9',\n",
       " 'C1': '1',\n",
       " 'C2': '6',\n",
       " 'C3': '4',\n",
       " 'C4': '3',\n",
       " 'C5': '7',\n",
       " 'C6': '9',\n",
       " 'C7': '5',\n",
       " 'C8': '2',\n",
       " 'C9': '8',\n",
       " 'D1': '9',\n",
       " 'D2': '8',\n",
       " 'D3': '6',\n",
       " 'D4': '1',\n",
       " 'D5': '4',\n",
       " 'D6': '7',\n",
       " 'D7': '3',\n",
       " 'D8': '5',\n",
       " 'D9': '2',\n",
       " 'E1': '3',\n",
       " 'E2': '7',\n",
       " 'E3': '5',\n",
       " 'E4': '2',\n",
       " 'E5': '6',\n",
       " 'E6': '8',\n",
       " 'E7': '9',\n",
       " 'E8': '1',\n",
       " 'E9': '4',\n",
       " 'F1': '2',\n",
       " 'F2': '4',\n",
       " 'F3': '1',\n",
       " 'F4': '5',\n",
       " 'F5': '9',\n",
       " 'F6': '3',\n",
       " 'F7': '7',\n",
       " 'F8': '8',\n",
       " 'F9': '6',\n",
       " 'G1': '4',\n",
       " 'G2': '3',\n",
       " 'G3': '2',\n",
       " 'G4': '9',\n",
       " 'G5': '8',\n",
       " 'G6': '1',\n",
       " 'G7': '6',\n",
       " 'G8': '7',\n",
       " 'G9': '5',\n",
       " 'H1': '6',\n",
       " 'H2': '1',\n",
       " 'H3': '7',\n",
       " 'H4': '4',\n",
       " 'H5': '2',\n",
       " 'H6': '5',\n",
       " 'H7': '8',\n",
       " 'H8': '9',\n",
       " 'H9': '3',\n",
       " 'I1': '5',\n",
       " 'I2': '9',\n",
       " 'I3': '8',\n",
       " 'I4': '7',\n",
       " 'I5': '3',\n",
       " 'I6': '6',\n",
       " 'I7': '2',\n",
       " 'I8': '4',\n",
       " 'I9': '1'}"
      ]
     },
     "execution_count": 23,
     "metadata": {},
     "output_type": "execute_result"
    }
   ],
   "source": [
    "solution"
   ]
  }
 ],
 "metadata": {
  "kernelspec": {
   "display_name": "Python 3",
   "language": "python",
   "name": "python3"
  },
  "language_info": {
   "codemirror_mode": {
    "name": "ipython",
    "version": 3
   },
   "file_extension": ".py",
   "mimetype": "text/x-python",
   "name": "python",
   "nbconvert_exporter": "python",
   "pygments_lexer": "ipython3",
   "version": "3.7.4"
  }
 },
 "nbformat": 4,
 "nbformat_minor": 2
}
